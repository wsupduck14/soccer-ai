{
 "cells": [
  {
   "cell_type": "code",
   "execution_count": 1,
   "metadata": {},
   "outputs": [],
   "source": [
    "%load_ext autoreload\n",
    "%autoreload 2"
   ]
  },
  {
   "cell_type": "code",
   "execution_count": 2,
   "metadata": {},
   "outputs": [],
   "source": [
    "from datetime import datetime, timezone, timedelta\n",
    "import pytz\n",
    "from bs4 import BeautifulSoup\n",
    "import re\n",
    "import pandas as pd\n",
    "import time\n",
    "import requests\n",
    "import ScraperFC as sfc\n",
    "import random\n",
    "import numpy as np\n",
    "import os\n",
    "import urllib.parse\n",
    "from time import perf_counter\n",
    "import warnings\n",
    "warnings.simplefilter(action='ignore', category=FutureWarning)\n",
    "warnings.simplefilter(action='ignore', category=pd.errors.PerformanceWarning)\n",
    "pd.set_option('display.max_rows', 50)\n",
    "pd.set_option('display.min_rows', 50)\n",
    "pd.set_option('display.max_columns', 50)"
   ]
  },
  {
   "cell_type": "code",
   "execution_count": 3,
   "metadata": {},
   "outputs": [
    {
     "data": {
      "text/plain": [
       "['Bundesliga_venues.parquet',\n",
       " 'EPL_venues.parquet',\n",
       " 'Eredivisie_venues.parquet',\n",
       " 'La_Liga_2_venues.parquet',\n",
       " 'Ligue_1_venues.parquet',\n",
       " 'Ligue_2_venues.parquet',\n",
       " 'Primeira_Liga_venues.parquet',\n",
       " 'Serie_A_venues.parquet',\n",
       " 'Serie_B_venue.parquet',\n",
       " 'venue_locations.ipynb']"
      ]
     },
     "execution_count": 3,
     "metadata": {},
     "output_type": "execute_result"
    }
   ],
   "source": [
    "os.listdir('z:\\\\gdrive_backup\\\\CoderBoy\\\\Python\\\\football_stats\\\\weather_and_location_data\\\\')"
   ]
  },
  {
   "cell_type": "code",
   "execution_count": 324,
   "metadata": {},
   "outputs": [],
   "source": [
    "serie_a_venues = pd.read_parquet('z:\\\\gdrive_backup\\\\CoderBoy\\\\Python\\\\football_stats\\\\weather_and_location_data\\\\Serie_A_venues.parquet')"
   ]
  },
  {
   "cell_type": "code",
   "execution_count": 4,
   "metadata": {},
   "outputs": [
    {
     "data": {
      "text/plain": [
       "['Bundesliga 2_FBRef_scrape.pkl',\n",
       " 'Bundesliga_FBRef_scrape.pkl',\n",
       " 'EFL Championship_FBRef_scrape.pkl',\n",
       " 'EPL_FBRef_scrape.pkl',\n",
       " 'Eredivisie_FBRef_scrape.pkl',\n",
       " 'La Liga 2_FBRef_scrape.pkl',\n",
       " 'La Liga_FBRef_scrape.pkl',\n",
       " 'Ligue 1_FBRef_scrape.pkl',\n",
       " 'Ligue 2_FBRef_scrape.pkl',\n",
       " 'missing_matches_FBRef_scrape.pkl',\n",
       " 'Primeira Liga_FBRef_scrape.pkl',\n",
       " 'Serie A_FBRef_scrape.pkl',\n",
       " 'Serie B_FBRef_scrape.pkl']"
      ]
     },
     "execution_count": 4,
     "metadata": {},
     "output_type": "execute_result"
    }
   ],
   "source": [
    "[file for file in os.listdir('z:\\\\gdrive_backup\\\\CoderBoy\\\\Python\\\\football_stats\\\\matches') if '.pkl' in file]"
   ]
  },
  {
   "cell_type": "code",
   "execution_count": 325,
   "metadata": {},
   "outputs": [],
   "source": [
    "serie_b_matches = pd.read_pickle(f'Z:\\\\gdrive_backup\\\\CoderBoy\\\\Python\\\\football_stats\\\\matches\\\\Serie B_FBRef_scrape.pkl')\n",
    "# ligue_2_matches = pd.read_pickle(f'C:\\\\Users\\\\Alec\\\\Documents\\\\Python\\\\soccer-ai\\\\data_files\\\\matches\\\\Ligue 2_FBRef_scrape.pkl')\n",
    "geo_api = 'e96c2545f79147dc882c08a481f7bb74'"
   ]
  },
  {
   "cell_type": "code",
   "execution_count": 326,
   "metadata": {},
   "outputs": [
    {
     "data": {
      "text/plain": [
       "year\n",
       "2014    471\n",
       "2015    471\n",
       "2016    468\n",
       "2017    460\n",
       "2018    350\n",
       "2019    388\n",
       "2020    387\n",
       "2021    389\n",
       "2022    390\n",
       "2023    150\n",
       "Name: count, dtype: int64"
      ]
     },
     "execution_count": 326,
     "metadata": {},
     "output_type": "execute_result"
    }
   ],
   "source": [
    "serie_b_matches['year'].value_counts().sort_index()"
   ]
  },
  {
   "cell_type": "code",
   "execution_count": null,
   "metadata": {},
   "outputs": [],
   "source": [
    "bundesliga_2_matches = pd.read_pickle(f'Z:\\\\gdrive_backup\\\\CoderBoy\\\\Python\\\\football_stats\\\\matches\\\\Primeira Liga_FBRef_scrape.pkl')"
   ]
  },
  {
   "cell_type": "code",
   "execution_count": null,
   "metadata": {},
   "outputs": [],
   "source": [
    "bundesliga_2_matches['year'].value_counts().sort_index()"
   ]
  },
  {
   "cell_type": "code",
   "execution_count": null,
   "metadata": {},
   "outputs": [],
   "source": [
    "serie_b_matches = pd.concat([serie_b_matches, bundesliga_2_matches],ignore_index=True)"
   ]
  },
  {
   "cell_type": "code",
   "execution_count": 329,
   "metadata": {},
   "outputs": [
    {
     "data": {
      "text/plain": [
       "58"
      ]
     },
     "execution_count": 329,
     "metadata": {},
     "output_type": "execute_result"
    }
   ],
   "source": [
    "venue_list = serie_b_matches['venue'].drop_duplicates().to_list()\n",
    "venue_locations = pd.DataFrame()\n",
    "len(venue_list)"
   ]
  },
  {
   "cell_type": "code",
   "execution_count": 330,
   "metadata": {},
   "outputs": [],
   "source": [
    "not_found = []\n",
    "for venue in venue_list:\n",
    "    url_encoded_venue = urllib.parse.quote(venue)\n",
    "    base_geo_url = f'https://api.opencagedata.com/geocode/v1/json?q={url_encoded_venue}&key={geo_api}'\n",
    "    start_time = perf_counter()\n",
    "    response = requests.get(base_geo_url)\n",
    "    results = response.json()['results']\n",
    "    num_results = response.json()['total_results']\n",
    "    if num_results == 0:\n",
    "        not_found.append(venue)\n",
    "    for i in range(num_results):\n",
    "        lat = results[i]['geometry']['lat']\n",
    "        lng = results[i]['geometry']['lng']\n",
    "        name = results[i]['formatted']\n",
    "        links = results[i]['annotations']['OSM']['url']\n",
    "\n",
    "        tmp = pd.DataFrame({'venue': venue, 'latitude': lat, 'longitude': lng, 'name': name, 'links': links}, index=[0])\n",
    "        venue_locations = pd.concat([venue_locations, tmp], ignore_index=True)\n",
    "    run_time = perf_counter() - start_time\n",
    "    if run_time < 2:\n",
    "        time.sleep(2.2 - run_time)"
   ]
  },
  {
   "cell_type": "code",
   "execution_count": 331,
   "metadata": {},
   "outputs": [
    {
     "data": {
      "text/plain": [
       "{'limit': 2500, 'remaining': 2384, 'reset': 1702944000}"
      ]
     },
     "metadata": {},
     "output_type": "display_data"
    },
    {
     "data": {
      "text/plain": [
       "[]"
      ]
     },
     "execution_count": 331,
     "metadata": {},
     "output_type": "execute_result"
    }
   ],
   "source": [
    "display(response.json()['rate'])\n",
    "not_found"
   ]
  },
  {
   "cell_type": "code",
   "execution_count": 333,
   "metadata": {},
   "outputs": [],
   "source": [
    "keep_indexes = []"
   ]
  },
  {
   "cell_type": "code",
   "execution_count": 332,
   "metadata": {},
   "outputs": [],
   "source": [
    "venue_locations = venue_locations[~(venue_locations['venue'].isin(serie_a_venues['venue']))].reset_index(drop=True).copy()"
   ]
  },
  {
   "cell_type": "code",
   "execution_count": 485,
   "metadata": {},
   "outputs": [
    {
     "data": {
      "text/plain": [
       "34"
      ]
     },
     "execution_count": 485,
     "metadata": {},
     "output_type": "execute_result"
    }
   ],
   "source": [
    "len(venue_locations['venue'].drop_duplicates())"
   ]
  },
  {
   "cell_type": "code",
   "execution_count": null,
   "metadata": {},
   "outputs": [],
   "source": [
    "serie_b_matches[serie_b_matches['venue'] == venue_locations.loc[i, 'venue']].drop_duplicates('venue')\n",
    "serie_b_matches[serie_b_matches['venue'].str.lower().str.contains('hardt')].drop_duplicates('venue')"
   ]
  },
  {
   "cell_type": "code",
   "execution_count": null,
   "metadata": {},
   "outputs": [],
   "source": [
    "serie_b_matches[serie_b_matches['home_team'].str.lower().str.contains('hardtwald')].drop_duplicates('venue')"
   ]
  },
  {
   "cell_type": "code",
   "execution_count": null,
   "metadata": {},
   "outputs": [],
   "source": [
    "venue_locations[venue_locations['venue'].str.contains('Hardtwaldstadion')]"
   ]
  },
  {
   "cell_type": "code",
   "execution_count": null,
   "metadata": {},
   "outputs": [],
   "source": [
    "prev_name = venue_locations.loc[w_i, 'venue']\n",
    "venue_locations.loc[w_i] = venue_locations.loc[c_i].copy()\n",
    "venue_locations.loc[w_i, 'venue'] = prev_name"
   ]
  },
  {
   "cell_type": "code",
   "execution_count": null,
   "metadata": {},
   "outputs": [],
   "source": [
    "c_i = 96\n",
    "w_i = 116\n",
    "test = venue_locations.copy()\n",
    "prev_name = test.loc[w_i, 'venue']\n",
    "test.loc[w_i] = test.loc[c_i].copy()\n",
    "test.loc[w_i, 'venue'] = prev_name\n",
    "test.loc[w_i:].head()"
   ]
  },
  {
   "cell_type": "code",
   "execution_count": 481,
   "metadata": {},
   "outputs": [
    {
     "data": {
      "text/plain": [
       "[41, 42, 44, 46, 47, 49, 51, 52, 54, 56]"
      ]
     },
     "metadata": {},
     "output_type": "display_data"
    }
   ],
   "source": [
    "keep_indexes = list(set(keep_indexes))\n",
    "display(keep_indexes[-10:])"
   ]
  },
  {
   "cell_type": "code",
   "execution_count": 336,
   "metadata": {},
   "outputs": [
    {
     "data": {
      "text/plain": [
       "[]"
      ]
     },
     "execution_count": 336,
     "metadata": {},
     "output_type": "execute_result"
    }
   ],
   "source": [
    "not_found"
   ]
  },
  {
   "cell_type": "code",
   "execution_count": 460,
   "metadata": {},
   "outputs": [],
   "source": [
    "# venue_locations.loc[i, 'venue'] = 'Estádio Nacional, Jamor'\n",
    "venue_locations.loc[i, 'name'] = \"Viale Trieste, 19, 39100 Bolzano BZ, Italy\"\n",
    "venue_locations.loc[i, 'links'] = 'https://www.openstreetmap.org/way/164506172#map=17/46.49177/11.34480'\n",
    "venue_locations.loc[i, 'latitude'] = 46.49211926165395\n",
    "venue_locations.loc[i, 'longitude'] = 11.345831262834214"
   ]
  },
  {
   "cell_type": "code",
   "execution_count": null,
   "metadata": {},
   "outputs": [],
   "source": [
    "46.49211926165395, 11.345831262834214"
   ]
  },
  {
   "cell_type": "code",
   "execution_count": 480,
   "metadata": {},
   "outputs": [
    {
     "name": "stdout",
     "output_type": "stream",
     "text": [
      "[44, 46, 47, 49, 51, 52, 54, 56, 42, 42]\n"
     ]
    }
   ],
   "source": [
    "keep_indexes.append(i)\n",
    "print(keep_indexes[-10:])"
   ]
  },
  {
   "cell_type": "code",
   "execution_count": 474,
   "metadata": {},
   "outputs": [
    {
     "data": {
      "text/plain": [
       "57"
      ]
     },
     "metadata": {},
     "output_type": "display_data"
    },
    {
     "data": {
      "text/plain": [
       "'https://www.openstreetmap.org/?mlat=45.14014&mlon=10.03486#map=17/45.14014/10.03486'"
      ]
     },
     "execution_count": 474,
     "metadata": {},
     "output_type": "execute_result"
    }
   ],
   "source": [
    "# i = -1\n",
    "i += 1\n",
    "display(i)\n",
    "venue_locations.loc[42, 'links']\n",
    "# venue_locations.loc[114, 'longitude']"
   ]
  },
  {
   "cell_type": "code",
   "execution_count": 471,
   "metadata": {},
   "outputs": [
    {
     "data": {
      "text/html": [
       "<div>\n",
       "<style scoped>\n",
       "    .dataframe tbody tr th:only-of-type {\n",
       "        vertical-align: middle;\n",
       "    }\n",
       "\n",
       "    .dataframe tbody tr th {\n",
       "        vertical-align: top;\n",
       "    }\n",
       "\n",
       "    .dataframe thead th {\n",
       "        text-align: right;\n",
       "    }\n",
       "</style>\n",
       "<table border=\"1\" class=\"dataframe\">\n",
       "  <thead>\n",
       "    <tr style=\"text-align: right;\">\n",
       "      <th></th>\n",
       "      <th>venue</th>\n",
       "      <th>latitude</th>\n",
       "      <th>longitude</th>\n",
       "      <th>name</th>\n",
       "      <th>links</th>\n",
       "    </tr>\n",
       "  </thead>\n",
       "  <tbody>\n",
       "    <tr>\n",
       "      <th>56</th>\n",
       "      <td>Stadio Nicola Ceravolo , Catanzaro</td>\n",
       "      <td>38.919706</td>\n",
       "      <td>16.58782</td>\n",
       "      <td>Stadio Nicola Ceravolo, Via Francesco Paglia, ...</td>\n",
       "      <td>https://www.openstreetmap.org/?mlat=38.91971&amp;m...</td>\n",
       "    </tr>\n",
       "    <tr>\n",
       "      <th>57</th>\n",
       "      <td>Stadio Nicola Ceravolo , Catanzaro</td>\n",
       "      <td>38.882470</td>\n",
       "      <td>16.60086</td>\n",
       "      <td>Catanzaro, Italy</td>\n",
       "      <td>https://www.openstreetmap.org/?mlat=38.88247&amp;m...</td>\n",
       "    </tr>\n",
       "  </tbody>\n",
       "</table>\n",
       "</div>"
      ],
      "text/plain": [
       "                                 venue   latitude  longitude  \\\n",
       "56  Stadio Nicola Ceravolo , Catanzaro  38.919706   16.58782   \n",
       "57  Stadio Nicola Ceravolo , Catanzaro  38.882470   16.60086   \n",
       "\n",
       "                                                 name  \\\n",
       "56  Stadio Nicola Ceravolo, Via Francesco Paglia, ...   \n",
       "57                                   Catanzaro, Italy   \n",
       "\n",
       "                                                links  \n",
       "56  https://www.openstreetmap.org/?mlat=38.91971&m...  \n",
       "57  https://www.openstreetmap.org/?mlat=38.88247&m...  "
      ]
     },
     "execution_count": 471,
     "metadata": {},
     "output_type": "execute_result"
    }
   ],
   "source": [
    "venue_locations.loc[i:]"
   ]
  },
  {
   "cell_type": "code",
   "execution_count": 482,
   "metadata": {},
   "outputs": [
    {
     "data": {
      "text/plain": [
       "(34, 5)"
      ]
     },
     "execution_count": 482,
     "metadata": {},
     "output_type": "execute_result"
    }
   ],
   "source": [
    "final_venue_locations = venue_locations[venue_locations.index.isin(keep_indexes)].reset_index(drop=True)\n",
    "final_venue_locations.shape"
   ]
  },
  {
   "cell_type": "code",
   "execution_count": 483,
   "metadata": {},
   "outputs": [
    {
     "data": {
      "text/html": [
       "<div>\n",
       "<style scoped>\n",
       "    .dataframe tbody tr th:only-of-type {\n",
       "        vertical-align: middle;\n",
       "    }\n",
       "\n",
       "    .dataframe tbody tr th {\n",
       "        vertical-align: top;\n",
       "    }\n",
       "\n",
       "    .dataframe thead th {\n",
       "        text-align: right;\n",
       "    }\n",
       "</style>\n",
       "<table border=\"1\" class=\"dataframe\">\n",
       "  <thead>\n",
       "    <tr style=\"text-align: right;\">\n",
       "      <th></th>\n",
       "      <th>venue</th>\n",
       "      <th>latitude</th>\n",
       "      <th>longitude</th>\n",
       "      <th>name</th>\n",
       "      <th>links</th>\n",
       "    </tr>\n",
       "  </thead>\n",
       "  <tbody>\n",
       "  </tbody>\n",
       "</table>\n",
       "</div>"
      ],
      "text/plain": [
       "Empty DataFrame\n",
       "Columns: [venue, latitude, longitude, name, links]\n",
       "Index: []"
      ]
     },
     "execution_count": 483,
     "metadata": {},
     "output_type": "execute_result"
    }
   ],
   "source": [
    "venue_locations[~venue_locations['venue'].isin(final_venue_locations['venue'])]"
   ]
  },
  {
   "cell_type": "code",
   "execution_count": 484,
   "metadata": {},
   "outputs": [
    {
     "data": {
      "text/plain": [
       "set()"
      ]
     },
     "execution_count": 484,
     "metadata": {},
     "output_type": "execute_result"
    }
   ],
   "source": [
    "set(not_found) - set(final_venue_locations['venue']) "
   ]
  },
  {
   "cell_type": "code",
   "execution_count": null,
   "metadata": {},
   "outputs": [],
   "source": [
    "final_final_venue_locations = pd.concat([final_venue_locations, error_row], ignore_index=True)"
   ]
  },
  {
   "cell_type": "code",
   "execution_count": null,
   "metadata": {},
   "outputs": [],
   "source": [
    "final_final_venue_locations"
   ]
  },
  {
   "cell_type": "code",
   "execution_count": 486,
   "metadata": {},
   "outputs": [],
   "source": [
    "final_venue_locations.to_parquet('Serie_B_venue.parquet')"
   ]
  }
 ],
 "metadata": {
  "kernelspec": {
   "display_name": "Python 3",
   "language": "python",
   "name": "python3"
  },
  "language_info": {
   "codemirror_mode": {
    "name": "ipython",
    "version": 3
   },
   "file_extension": ".py",
   "mimetype": "text/x-python",
   "name": "python",
   "nbconvert_exporter": "python",
   "pygments_lexer": "ipython3",
   "version": "3.11.6"
  }
 },
 "nbformat": 4,
 "nbformat_minor": 2
}
